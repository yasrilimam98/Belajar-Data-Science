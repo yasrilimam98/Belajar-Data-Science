{
 "cells": [
  {
   "cell_type": "markdown",
   "id": "e0517303",
   "metadata": {},
   "source": [
    "# Print Python"
   ]
  },
  {
   "cell_type": "code",
   "execution_count": 1,
   "id": "da4c7676",
   "metadata": {},
   "outputs": [
    {
     "name": "stdout",
     "output_type": "stream",
     "text": [
      "Hallo, nama saya Yasril\n"
     ]
    }
   ],
   "source": [
    "print(\"Hallo, nama saya Yasril\")"
   ]
  },
  {
   "cell_type": "markdown",
   "id": "a666af55",
   "metadata": {},
   "source": [
    "# Variabel"
   ]
  },
  {
   "cell_type": "code",
   "execution_count": 2,
   "id": "04632614",
   "metadata": {},
   "outputs": [],
   "source": [
    "#untuk menyimpan suatu nilai dalam sebuah variabel\n",
    "a = 1"
   ]
  },
  {
   "cell_type": "code",
   "execution_count": 3,
   "id": "bf586908",
   "metadata": {},
   "outputs": [
    {
     "data": {
      "text/plain": [
       "1"
      ]
     },
     "execution_count": 3,
     "metadata": {},
     "output_type": "execute_result"
    }
   ],
   "source": [
    "a"
   ]
  },
  {
   "cell_type": "code",
   "execution_count": 4,
   "id": "e8a0da8b",
   "metadata": {},
   "outputs": [],
   "source": [
    "a, b = 2, 3"
   ]
  },
  {
   "cell_type": "code",
   "execution_count": 5,
   "id": "0ee4ed00",
   "metadata": {},
   "outputs": [
    {
     "data": {
      "text/plain": [
       "2"
      ]
     },
     "execution_count": 5,
     "metadata": {},
     "output_type": "execute_result"
    }
   ],
   "source": [
    "a"
   ]
  },
  {
   "cell_type": "code",
   "execution_count": 6,
   "id": "97fd20b5",
   "metadata": {},
   "outputs": [
    {
     "data": {
      "text/plain": [
       "3"
      ]
     },
     "execution_count": 6,
     "metadata": {},
     "output_type": "execute_result"
    }
   ],
   "source": [
    "b"
   ]
  },
  {
   "cell_type": "code",
   "execution_count": 7,
   "id": "2a79913b",
   "metadata": {},
   "outputs": [
    {
     "data": {
      "text/plain": [
       "(2, 3)"
      ]
     },
     "execution_count": 7,
     "metadata": {},
     "output_type": "execute_result"
    }
   ],
   "source": [
    "a, b"
   ]
  },
  {
   "cell_type": "markdown",
   "id": "bae8f5da",
   "metadata": {},
   "source": [
    "# List"
   ]
  },
  {
   "cell_type": "code",
   "execution_count": 8,
   "id": "e4d63815",
   "metadata": {},
   "outputs": [],
   "source": [
    "#Sekumpulan nilai\n",
    "a = [1, 2, 3, \"Empat\",\"lima\",6]"
   ]
  },
  {
   "cell_type": "code",
   "execution_count": 9,
   "id": "8a0c3d56",
   "metadata": {},
   "outputs": [
    {
     "data": {
      "text/plain": [
       "[1, 2, 3, 'Empat', 'lima', 6]"
      ]
     },
     "execution_count": 9,
     "metadata": {},
     "output_type": "execute_result"
    }
   ],
   "source": [
    "a"
   ]
  },
  {
   "cell_type": "code",
   "execution_count": 10,
   "id": "ca375a48",
   "metadata": {},
   "outputs": [
    {
     "data": {
      "text/plain": [
       "1"
      ]
     },
     "execution_count": 10,
     "metadata": {},
     "output_type": "execute_result"
    }
   ],
   "source": [
    "#Mengambil sesuai yang dipilih\n",
    "a[0]"
   ]
  },
  {
   "cell_type": "code",
   "execution_count": 11,
   "id": "ae09c96c",
   "metadata": {},
   "outputs": [
    {
     "data": {
      "text/plain": [
       "'Empat'"
      ]
     },
     "execution_count": 11,
     "metadata": {},
     "output_type": "execute_result"
    }
   ],
   "source": [
    "a[3]"
   ]
  },
  {
   "cell_type": "code",
   "execution_count": 12,
   "id": "dbbf913e",
   "metadata": {},
   "outputs": [
    {
     "data": {
      "text/plain": [
       "6"
      ]
     },
     "execution_count": 12,
     "metadata": {},
     "output_type": "execute_result"
    }
   ],
   "source": [
    "#Mengambil dari belakang\n",
    "a[-1]"
   ]
  },
  {
   "cell_type": "code",
   "execution_count": 13,
   "id": "8d391129",
   "metadata": {},
   "outputs": [],
   "source": [
    "#Untuk menambah dalam suatu list dengan fungsi/method append\n",
    "a.append(7)"
   ]
  },
  {
   "cell_type": "code",
   "execution_count": 14,
   "id": "90da62fc",
   "metadata": {},
   "outputs": [
    {
     "data": {
      "text/plain": [
       "[1, 2, 3, 'Empat', 'lima', 6, 7]"
      ]
     },
     "execution_count": 14,
     "metadata": {},
     "output_type": "execute_result"
    }
   ],
   "source": [
    "a"
   ]
  },
  {
   "cell_type": "code",
   "execution_count": 15,
   "id": "8863a12e",
   "metadata": {},
   "outputs": [
    {
     "data": {
      "text/plain": [
       "7"
      ]
     },
     "execution_count": 15,
     "metadata": {},
     "output_type": "execute_result"
    }
   ],
   "source": [
    "#melihat panjang dengan fungsi len\n",
    "len(a)"
   ]
  },
  {
   "cell_type": "code",
   "execution_count": 16,
   "id": "0deafe80",
   "metadata": {},
   "outputs": [],
   "source": [
    "a = []"
   ]
  },
  {
   "cell_type": "code",
   "execution_count": 17,
   "id": "ded095fc",
   "metadata": {},
   "outputs": [
    {
     "data": {
      "text/plain": [
       "[]"
      ]
     },
     "execution_count": 17,
     "metadata": {},
     "output_type": "execute_result"
    }
   ],
   "source": [
    "a"
   ]
  },
  {
   "cell_type": "code",
   "execution_count": 18,
   "id": "312074a5",
   "metadata": {},
   "outputs": [],
   "source": [
    "a.append(1)"
   ]
  },
  {
   "cell_type": "code",
   "execution_count": 19,
   "id": "60bd8b96",
   "metadata": {},
   "outputs": [
    {
     "data": {
      "text/plain": [
       "[1]"
      ]
     },
     "execution_count": 19,
     "metadata": {},
     "output_type": "execute_result"
    }
   ],
   "source": [
    "a"
   ]
  },
  {
   "cell_type": "code",
   "execution_count": 20,
   "id": "17e1eedd",
   "metadata": {},
   "outputs": [],
   "source": [
    "a.append(2)"
   ]
  },
  {
   "cell_type": "code",
   "execution_count": 21,
   "id": "5fbe2cf2",
   "metadata": {},
   "outputs": [
    {
     "data": {
      "text/plain": [
       "[1, 2]"
      ]
     },
     "execution_count": 21,
     "metadata": {},
     "output_type": "execute_result"
    }
   ],
   "source": [
    "a"
   ]
  },
  {
   "cell_type": "markdown",
   "id": "eabdc3fd",
   "metadata": {},
   "source": [
    "# Slicing / Potong"
   ]
  },
  {
   "cell_type": "code",
   "execution_count": 22,
   "id": "ac6524dd",
   "metadata": {},
   "outputs": [],
   "source": [
    "#aturan slicing yaitu = Inclusive dan Exclusive, step atau langkah"
   ]
  },
  {
   "cell_type": "code",
   "execution_count": 25,
   "id": "f5bc4886",
   "metadata": {},
   "outputs": [],
   "source": [
    "a=[0,1,2,3,4,5,6,7]"
   ]
  },
  {
   "cell_type": "code",
   "execution_count": 27,
   "id": "1433a187",
   "metadata": {},
   "outputs": [
    {
     "data": {
      "text/plain": [
       "[0, 1]"
      ]
     },
     "execution_count": 27,
     "metadata": {},
     "output_type": "execute_result"
    }
   ],
   "source": [
    "a[0: 2]"
   ]
  },
  {
   "cell_type": "code",
   "execution_count": 28,
   "id": "e0f6ff83",
   "metadata": {},
   "outputs": [
    {
     "data": {
      "text/plain": [
       "[0, 1, 2, 3, 4]"
      ]
     },
     "execution_count": 28,
     "metadata": {},
     "output_type": "execute_result"
    }
   ],
   "source": [
    "a[0: 5]"
   ]
  },
  {
   "cell_type": "code",
   "execution_count": 30,
   "id": "8b4699f7",
   "metadata": {},
   "outputs": [
    {
     "data": {
      "text/plain": [
       "[3, 4, 5]"
      ]
     },
     "execution_count": 30,
     "metadata": {},
     "output_type": "execute_result"
    }
   ],
   "source": [
    "a[3:-2]"
   ]
  },
  {
   "cell_type": "code",
   "execution_count": 31,
   "id": "edfa6e34",
   "metadata": {},
   "outputs": [
    {
     "data": {
      "text/plain": [
       "[0, 1, 2, 3, 4]"
      ]
     },
     "execution_count": 31,
     "metadata": {},
     "output_type": "execute_result"
    }
   ],
   "source": [
    "a[:5]"
   ]
  },
  {
   "cell_type": "code",
   "execution_count": 32,
   "id": "b55ae7dd",
   "metadata": {},
   "outputs": [
    {
     "data": {
      "text/plain": [
       "[3, 4, 5, 6, 7]"
      ]
     },
     "execution_count": 32,
     "metadata": {},
     "output_type": "execute_result"
    }
   ],
   "source": [
    "a[3:]"
   ]
  },
  {
   "cell_type": "code",
   "execution_count": 33,
   "id": "c3a00c5a",
   "metadata": {},
   "outputs": [
    {
     "data": {
      "text/plain": [
       "[0, 2, 4, 6]"
      ]
     },
     "execution_count": 33,
     "metadata": {},
     "output_type": "execute_result"
    }
   ],
   "source": [
    "a[:: 2]"
   ]
  },
  {
   "cell_type": "code",
   "execution_count": 34,
   "id": "ae88e3ef",
   "metadata": {},
   "outputs": [
    {
     "data": {
      "text/plain": [
       "[1, 3]"
      ]
     },
     "execution_count": 34,
     "metadata": {},
     "output_type": "execute_result"
    }
   ],
   "source": [
    "a[1:5:2]"
   ]
  },
  {
   "cell_type": "code",
   "execution_count": 35,
   "id": "64102f9a",
   "metadata": {},
   "outputs": [
    {
     "data": {
      "text/plain": [
       "[7, 6, 5, 4, 3, 2, 1, 0]"
      ]
     },
     "execution_count": 35,
     "metadata": {},
     "output_type": "execute_result"
    }
   ],
   "source": [
    "a[::-1]\n",
    "# reverse"
   ]
  },
  {
   "cell_type": "markdown",
   "id": "792e4e24",
   "metadata": {},
   "source": [
    "# Join dan Split"
   ]
  },
  {
   "cell_type": "code",
   "execution_count": 36,
   "id": "17fba4f3",
   "metadata": {},
   "outputs": [],
   "source": [
    "a = [\"cat\",\"dog\",\"Fish\"]"
   ]
  },
  {
   "cell_type": "code",
   "execution_count": 37,
   "id": "4077a890",
   "metadata": {},
   "outputs": [
    {
     "data": {
      "text/plain": [
       "'cat dog Fish'"
      ]
     },
     "execution_count": 37,
     "metadata": {},
     "output_type": "execute_result"
    }
   ],
   "source": [
    "\" \".join(a)"
   ]
  },
  {
   "cell_type": "code",
   "execution_count": 38,
   "id": "0b5e94f3",
   "metadata": {},
   "outputs": [
    {
     "data": {
      "text/plain": [
       "'cat, dog, Fish'"
      ]
     },
     "execution_count": 38,
     "metadata": {},
     "output_type": "execute_result"
    }
   ],
   "source": [
    "\", \".join(a)"
   ]
  },
  {
   "cell_type": "code",
   "execution_count": 39,
   "id": "514d25b4",
   "metadata": {},
   "outputs": [],
   "source": [
    "a = \"Belajar python\""
   ]
  },
  {
   "cell_type": "code",
   "execution_count": 40,
   "id": "7102f90f",
   "metadata": {},
   "outputs": [
    {
     "data": {
      "text/plain": [
       "['Belajar', 'python']"
      ]
     },
     "execution_count": 40,
     "metadata": {},
     "output_type": "execute_result"
    }
   ],
   "source": [
    "a.split()"
   ]
  },
  {
   "cell_type": "code",
   "execution_count": 43,
   "id": "1b04e9e8",
   "metadata": {},
   "outputs": [],
   "source": [
    "a = \"Hari ini, saya pergi ke kampus\""
   ]
  },
  {
   "cell_type": "code",
   "execution_count": 44,
   "id": "0c5a395e",
   "metadata": {},
   "outputs": [
    {
     "data": {
      "text/plain": [
       "['Hari ini', ' saya pergi ke kampus']"
      ]
     },
     "execution_count": 44,
     "metadata": {},
     "output_type": "execute_result"
    }
   ],
   "source": [
    "a.split(\",\")"
   ]
  },
  {
   "cell_type": "markdown",
   "id": "2e22bcaf",
   "metadata": {},
   "source": [
    "# Dictionary"
   ]
  },
  {
   "cell_type": "code",
   "execution_count": 45,
   "id": "03243aa3",
   "metadata": {},
   "outputs": [],
   "source": [
    "# Dictionary harus berpasang sesuai dengan key : Value\n",
    "a = {\"cat\": \"Kucing\", \"dog\": \"Anjing\",\"Fish\": \"ikan\"}"
   ]
  },
  {
   "cell_type": "code",
   "execution_count": 48,
   "id": "aa0e2bc5",
   "metadata": {},
   "outputs": [
    {
     "data": {
      "text/plain": [
       "'Kucing'"
      ]
     },
     "execution_count": 48,
     "metadata": {},
     "output_type": "execute_result"
    }
   ],
   "source": [
    "a[\"cat\"]"
   ]
  },
  {
   "cell_type": "code",
   "execution_count": 50,
   "id": "23d95ff8",
   "metadata": {},
   "outputs": [
    {
     "data": {
      "text/plain": [
       "'ikan'"
      ]
     },
     "execution_count": 50,
     "metadata": {},
     "output_type": "execute_result"
    }
   ],
   "source": [
    "a[\"Fish\"]"
   ]
  },
  {
   "cell_type": "code",
   "execution_count": 51,
   "id": "7500aea7",
   "metadata": {},
   "outputs": [],
   "source": [
    "# cara menambah di dictionary\n",
    "a['bird'] = 'burung'"
   ]
  },
  {
   "cell_type": "code",
   "execution_count": 52,
   "id": "7254d4fb",
   "metadata": {},
   "outputs": [
    {
     "data": {
      "text/plain": [
       "{'cat': 'Kucing', 'dog': 'Anjing', 'Fish': 'ikan', 'bird': 'burung'}"
      ]
     },
     "execution_count": 52,
     "metadata": {},
     "output_type": "execute_result"
    }
   ],
   "source": [
    "a"
   ]
  },
  {
   "cell_type": "code",
   "execution_count": 53,
   "id": "2f39b194",
   "metadata": {},
   "outputs": [],
   "source": [
    "a['elephant'] = 'gajah'"
   ]
  },
  {
   "cell_type": "code",
   "execution_count": 54,
   "id": "043cded2",
   "metadata": {},
   "outputs": [
    {
     "data": {
      "text/plain": [
       "{'cat': 'Kucing',\n",
       " 'dog': 'Anjing',\n",
       " 'Fish': 'ikan',\n",
       " 'bird': 'burung',\n",
       " 'elephant': 'gajah'}"
      ]
     },
     "execution_count": 54,
     "metadata": {},
     "output_type": "execute_result"
    }
   ],
   "source": [
    "a"
   ]
  },
  {
   "cell_type": "code",
   "execution_count": 55,
   "id": "2b1421a9",
   "metadata": {},
   "outputs": [
    {
     "data": {
      "text/plain": [
       "dict_keys(['cat', 'dog', 'Fish', 'bird', 'elephant'])"
      ]
     },
     "execution_count": 55,
     "metadata": {},
     "output_type": "execute_result"
    }
   ],
   "source": [
    "a.keys()"
   ]
  },
  {
   "cell_type": "code",
   "execution_count": 57,
   "id": "8bf16dcb",
   "metadata": {},
   "outputs": [
    {
     "data": {
      "text/plain": [
       "dict_values(['Kucing', 'Anjing', 'ikan', 'burung', 'gajah'])"
      ]
     },
     "execution_count": 57,
     "metadata": {},
     "output_type": "execute_result"
    }
   ],
   "source": [
    "a.values()"
   ]
  },
  {
   "cell_type": "code",
   "execution_count": 58,
   "id": "6a17059c",
   "metadata": {},
   "outputs": [],
   "source": [
    "nilai = {\"Yasril\": 90, \"Faisal\": 80, \"Lucky\": 70} "
   ]
  },
  {
   "cell_type": "code",
   "execution_count": 59,
   "id": "391c73d6",
   "metadata": {},
   "outputs": [],
   "source": [
    "nilai['Billy'] = 90"
   ]
  },
  {
   "cell_type": "code",
   "execution_count": 60,
   "id": "84bb4e47",
   "metadata": {},
   "outputs": [
    {
     "data": {
      "text/plain": [
       "{'Yasril': '90', 'Faisal': '80', 'Lucky': '70', 'Billy': 90}"
      ]
     },
     "execution_count": 60,
     "metadata": {},
     "output_type": "execute_result"
    }
   ],
   "source": [
    "nilai"
   ]
  },
  {
   "cell_type": "markdown",
   "id": "297b255d",
   "metadata": {},
   "source": [
    "# Fungsi"
   ]
  },
  {
   "cell_type": "code",
   "execution_count": 61,
   "id": "8db9f1a4",
   "metadata": {},
   "outputs": [],
   "source": [
    "def jumlah(a, b):\n",
    "    return a + b"
   ]
  },
  {
   "cell_type": "code",
   "execution_count": 62,
   "id": "9adbc61d",
   "metadata": {},
   "outputs": [
    {
     "data": {
      "text/plain": [
       "7"
      ]
     },
     "execution_count": 62,
     "metadata": {},
     "output_type": "execute_result"
    }
   ],
   "source": [
    "jumlah(3,4)"
   ]
  },
  {
   "cell_type": "code",
   "execution_count": 72,
   "id": "a6bf01fb",
   "metadata": {},
   "outputs": [],
   "source": [
    "def perkalian(a, b):\n",
    "    return a * b"
   ]
  },
  {
   "cell_type": "code",
   "execution_count": 73,
   "id": "459d379f",
   "metadata": {},
   "outputs": [
    {
     "data": {
      "text/plain": [
       "1476"
      ]
     },
     "execution_count": 73,
     "metadata": {},
     "output_type": "execute_result"
    }
   ],
   "source": [
    "perkalian(123, 12)"
   ]
  },
  {
   "cell_type": "markdown",
   "id": "002d9280",
   "metadata": {},
   "source": [
    "# Conditionals"
   ]
  },
  {
   "cell_type": "code",
   "execution_count": 74,
   "id": "f6a75c72",
   "metadata": {},
   "outputs": [],
   "source": [
    "#membuat kasus dalam suatu nilai contohnya\n",
    "score = 50"
   ]
  },
  {
   "cell_type": "code",
   "execution_count": 77,
   "id": "22c70f3b",
   "metadata": {},
   "outputs": [
    {
     "name": "stdout",
     "output_type": "stream",
     "text": [
      "Indeks : C\n"
     ]
    }
   ],
   "source": [
    "if 0 <= score < 60:\n",
    "    print(\"Indeks : C\")\n",
    "elif 60 <= score < 80:\n",
    "    print(\"Indeks : B\")\n",
    "elif 80<= score < 100:\n",
    "    print(\"Indeks: S\")\n",
    "else:\n",
    "    print(\"Ketinggian scorenya\")"
   ]
  },
  {
   "cell_type": "code",
   "execution_count": 80,
   "id": "c803d00a",
   "metadata": {},
   "outputs": [],
   "source": [
    "def konversi_indeks(score):\n",
    "    if 0 <= score < 60:\n",
    "        return(\"Indeks : C\")\n",
    "    elif 60 <= score < 80:\n",
    "        return(\"Indeks : B\")\n",
    "    elif 80<= score < 100:\n",
    "        return(\"Indeks: A\")\n",
    "    elif score == 100:\n",
    "        return(\"Indeks: S\")\n",
    "    else:\n",
    "        return(\"Ketinggian scorenya\")\n",
    "# Kombinasi conditional dan fungsi"
   ]
  },
  {
   "cell_type": "code",
   "execution_count": 83,
   "id": "95cb2605",
   "metadata": {},
   "outputs": [
    {
     "data": {
      "text/plain": [
       "'Ketinggian scorenya'"
      ]
     },
     "execution_count": 83,
     "metadata": {},
     "output_type": "execute_result"
    }
   ],
   "source": [
    "konversi_indeks(101)"
   ]
  },
  {
   "cell_type": "markdown",
   "id": "865fbe9d",
   "metadata": {},
   "source": [
    "# Iterasi"
   ]
  },
  {
   "cell_type": "code",
   "execution_count": null,
   "id": "376efbb4",
   "metadata": {},
   "outputs": [],
   "source": [
    "# Iterasi adalah menelusuri sebuah list atau yang bisa di iterasi"
   ]
  },
  {
   "cell_type": "code",
   "execution_count": 84,
   "id": "546f74be",
   "metadata": {},
   "outputs": [],
   "source": [
    "number = [1,2,3,4,5,6]"
   ]
  },
  {
   "cell_type": "code",
   "execution_count": 85,
   "id": "20d0e62e",
   "metadata": {},
   "outputs": [
    {
     "name": "stdout",
     "output_type": "stream",
     "text": [
      "1\n",
      "2\n",
      "3\n",
      "4\n",
      "5\n",
      "6\n"
     ]
    }
   ],
   "source": [
    "for n in number:\n",
    "    print(n)"
   ]
  },
  {
   "cell_type": "code",
   "execution_count": 86,
   "id": "6adde0d4",
   "metadata": {},
   "outputs": [
    {
     "name": "stdout",
     "output_type": "stream",
     "text": [
      "Indeks: A\n",
      "Indeks : C\n",
      "Indeks : C\n",
      "Indeks: S\n"
     ]
    }
   ],
   "source": [
    "for score in [80,30,55,100]:\n",
    "    print(konversi_indeks(score))"
   ]
  },
  {
   "cell_type": "code",
   "execution_count": 87,
   "id": "3ef2ded3",
   "metadata": {},
   "outputs": [
    {
     "name": "stdout",
     "output_type": "stream",
     "text": [
      "1\n",
      "4\n",
      "9\n",
      "16\n",
      "25\n",
      "36\n"
     ]
    }
   ],
   "source": [
    "for numb in number:\n",
    "    print(numb**2)"
   ]
  },
  {
   "cell_type": "code",
   "execution_count": 88,
   "id": "557104bd",
   "metadata": {},
   "outputs": [],
   "source": [
    "animals = [\"Cat\",\"Fish\",\"Elephant\",\"Bird\"]"
   ]
  },
  {
   "cell_type": "code",
   "execution_count": 89,
   "id": "c228cb54",
   "metadata": {},
   "outputs": [
    {
     "name": "stdout",
     "output_type": "stream",
     "text": [
      "Cat\n",
      "Fish\n",
      "Elephant\n",
      "Bird\n"
     ]
    }
   ],
   "source": [
    "for animal in animals:\n",
    "    print(animal)"
   ]
  },
  {
   "cell_type": "code",
   "execution_count": 90,
   "id": "aeb16637",
   "metadata": {},
   "outputs": [
    {
     "name": "stdout",
     "output_type": "stream",
     "text": [
      "CAT\n",
      "FISH\n",
      "ELEPHANT\n",
      "BIRD\n"
     ]
    }
   ],
   "source": [
    "for animal in animals:\n",
    "    print(animal.upper())\n",
    "#     upper untuk huruf kapital"
   ]
  },
  {
   "cell_type": "code",
   "execution_count": 91,
   "id": "4071dc07",
   "metadata": {},
   "outputs": [
    {
     "name": "stdout",
     "output_type": "stream",
     "text": [
      "cat\n",
      "fish\n",
      "elephant\n",
      "bird\n"
     ]
    }
   ],
   "source": [
    "for animal in animals:\n",
    "    print(animal.lower())\n",
    "#     upper untuk huruf kecil"
   ]
  },
  {
   "cell_type": "code",
   "execution_count": 92,
   "id": "1ebb78b4",
   "metadata": {},
   "outputs": [
    {
     "name": "stdout",
     "output_type": "stream",
     "text": [
      "2\n",
      "4\n"
     ]
    }
   ],
   "source": [
    "for i in range (2,5,2):\n",
    "    print(i)"
   ]
  },
  {
   "cell_type": "code",
   "execution_count": 93,
   "id": "8abc021b",
   "metadata": {},
   "outputs": [
    {
     "data": {
      "text/plain": [
       "dict_keys(['cat', 'dog', 'Fish', 'bird', 'elephant'])"
      ]
     },
     "execution_count": 93,
     "metadata": {},
     "output_type": "execute_result"
    }
   ],
   "source": [
    "a.keys()"
   ]
  },
  {
   "cell_type": "code",
   "execution_count": 97,
   "id": "98dd3464",
   "metadata": {},
   "outputs": [
    {
     "name": "stdout",
     "output_type": "stream",
     "text": [
      "Bahasa Indonesia dari cat Adalah Kucing\n",
      "Bahasa Indonesia dari dog Adalah Anjing\n",
      "Bahasa Indonesia dari Fish Adalah ikan\n",
      "Bahasa Indonesia dari bird Adalah burung\n",
      "Bahasa Indonesia dari elephant Adalah gajah\n"
     ]
    }
   ],
   "source": [
    "for key in a.keys():\n",
    "    print(\"Bahasa Indonesia dari\", key, \"Adalah\", a[key])"
   ]
  },
  {
   "cell_type": "code",
   "execution_count": 99,
   "id": "0d52f061",
   "metadata": {},
   "outputs": [
    {
     "data": {
      "text/plain": [
       "'Bahasa indonesia dari elephant adalah gajah'"
      ]
     },
     "execution_count": 99,
     "metadata": {},
     "output_type": "execute_result"
    }
   ],
   "source": [
    "#cara cepat\n",
    "f\"Bahasa indonesia dari {key} adalah {a[key]}\""
   ]
  },
  {
   "cell_type": "code",
   "execution_count": 100,
   "id": "ec0e9c4c",
   "metadata": {},
   "outputs": [],
   "source": [
    "a = []\n",
    "for i in range(5):\n",
    "    a.append(i**2)"
   ]
  },
  {
   "cell_type": "code",
   "execution_count": 101,
   "id": "af9725e7",
   "metadata": {},
   "outputs": [
    {
     "data": {
      "text/plain": [
       "[0, 1, 4, 9, 16]"
      ]
     },
     "execution_count": 101,
     "metadata": {},
     "output_type": "execute_result"
    }
   ],
   "source": [
    "a"
   ]
  },
  {
   "cell_type": "markdown",
   "id": "9532019e",
   "metadata": {},
   "source": [
    "# Python Comprehension"
   ]
  },
  {
   "cell_type": "code",
   "execution_count": 103,
   "id": "70115138",
   "metadata": {},
   "outputs": [],
   "source": [
    "# List Comprehension\n",
    "a = [i**2 for i in range(5)]"
   ]
  },
  {
   "cell_type": "code",
   "execution_count": 104,
   "id": "5eb2a770",
   "metadata": {},
   "outputs": [
    {
     "data": {
      "text/plain": [
       "[0, 1, 4, 9, 16]"
      ]
     },
     "execution_count": 104,
     "metadata": {},
     "output_type": "execute_result"
    }
   ],
   "source": [
    "a"
   ]
  },
  {
   "cell_type": "code",
   "execution_count": 106,
   "id": "521ca298",
   "metadata": {},
   "outputs": [],
   "source": [
    "# Dictionary comprehension\n",
    "a = {i: i**2 for i in range(5)}"
   ]
  },
  {
   "cell_type": "code",
   "execution_count": 107,
   "id": "65310c7d",
   "metadata": {},
   "outputs": [
    {
     "data": {
      "text/plain": [
       "{0: 0, 1: 1, 2: 4, 3: 9, 4: 16}"
      ]
     },
     "execution_count": 107,
     "metadata": {},
     "output_type": "execute_result"
    }
   ],
   "source": [
    "a"
   ]
  },
  {
   "cell_type": "code",
   "execution_count": 108,
   "id": "1ff89c3e",
   "metadata": {},
   "outputs": [
    {
     "data": {
      "text/plain": [
       "{1, 2, 3, 4, 5}"
      ]
     },
     "execution_count": 108,
     "metadata": {},
     "output_type": "execute_result"
    }
   ],
   "source": [
    "# set tidak ada yang mengulang atau uniq\n",
    "{1,2,3,4,5,1,2,3,4,5}"
   ]
  },
  {
   "cell_type": "code",
   "execution_count": 109,
   "id": "ffdc5486",
   "metadata": {},
   "outputs": [],
   "source": [
    "# Lebih memanfaatkan Comprehension dibandingkan append \n",
    "nilai = [konversi_indeks(score) for score in [20,30,60,80,100,109,111]]"
   ]
  },
  {
   "cell_type": "code",
   "execution_count": 110,
   "id": "d2a16664",
   "metadata": {},
   "outputs": [
    {
     "data": {
      "text/plain": [
       "['Indeks : C',\n",
       " 'Indeks : C',\n",
       " 'Indeks : B',\n",
       " 'Indeks: A',\n",
       " 'Indeks: S',\n",
       " 'Ketinggian scorenya',\n",
       " 'Ketinggian scorenya']"
      ]
     },
     "execution_count": 110,
     "metadata": {},
     "output_type": "execute_result"
    }
   ],
   "source": [
    "nilai"
   ]
  },
  {
   "cell_type": "code",
   "execution_count": null,
   "id": "91a71db1",
   "metadata": {},
   "outputs": [],
   "source": []
  }
 ],
 "metadata": {
  "kernelspec": {
   "display_name": "Python 3",
   "language": "python",
   "name": "python3"
  },
  "language_info": {
   "codemirror_mode": {
    "name": "ipython",
    "version": 3
   },
   "file_extension": ".py",
   "mimetype": "text/x-python",
   "name": "python",
   "nbconvert_exporter": "python",
   "pygments_lexer": "ipython3",
   "version": "3.8.5"
  }
 },
 "nbformat": 4,
 "nbformat_minor": 5
}
