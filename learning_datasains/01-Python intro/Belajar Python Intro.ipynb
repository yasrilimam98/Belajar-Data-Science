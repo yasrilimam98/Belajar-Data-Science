{
 "cells": [
  {
   "cell_type": "markdown",
   "id": "c934b3ec",
   "metadata": {},
   "source": [
    "# Print Python"
   ]
  },
  {
   "cell_type": "code",
   "execution_count": 1,
   "id": "307faa7b",
   "metadata": {},
   "outputs": [
    {
     "name": "stdout",
     "output_type": "stream",
     "text": [
      "Hallo, nama saya Yasril\n"
     ]
    }
   ],
   "source": [
    "print(\"Hallo, nama saya Yasril\")"
   ]
  },
  {
   "cell_type": "markdown",
   "id": "fe9e9bb9",
   "metadata": {},
   "source": [
    "# Variabel"
   ]
  },
  {
   "cell_type": "code",
   "execution_count": 2,
   "id": "e15c3f86",
   "metadata": {},
   "outputs": [],
   "source": [
    "#untuk menyimpan suatu nilai dalam sebuah variabel\n",
    "a = 1"
   ]
  },
  {
   "cell_type": "code",
   "execution_count": 3,
   "id": "6012b0a0",
   "metadata": {},
   "outputs": [
    {
     "data": {
      "text/plain": [
       "1"
      ]
     },
     "execution_count": 3,
     "metadata": {},
     "output_type": "execute_result"
    }
   ],
   "source": [
    "a"
   ]
  },
  {
   "cell_type": "code",
   "execution_count": 4,
   "id": "eb8f9b73",
   "metadata": {},
   "outputs": [],
   "source": [
    "a, b = 2, 3"
   ]
  },
  {
   "cell_type": "code",
   "execution_count": 5,
   "id": "d4a28f01",
   "metadata": {},
   "outputs": [
    {
     "data": {
      "text/plain": [
       "2"
      ]
     },
     "execution_count": 5,
     "metadata": {},
     "output_type": "execute_result"
    }
   ],
   "source": [
    "a"
   ]
  },
  {
   "cell_type": "code",
   "execution_count": 6,
   "id": "6685b1b9",
   "metadata": {},
   "outputs": [
    {
     "data": {
      "text/plain": [
       "3"
      ]
     },
     "execution_count": 6,
     "metadata": {},
     "output_type": "execute_result"
    }
   ],
   "source": [
    "b"
   ]
  },
  {
   "cell_type": "code",
   "execution_count": 7,
   "id": "e9e5a71a",
   "metadata": {},
   "outputs": [
    {
     "data": {
      "text/plain": [
       "(2, 3)"
      ]
     },
     "execution_count": 7,
     "metadata": {},
     "output_type": "execute_result"
    }
   ],
   "source": [
    "a, b"
   ]
  },
  {
   "cell_type": "markdown",
   "id": "6ed5dad0",
   "metadata": {},
   "source": [
    "# List"
   ]
  },
  {
   "cell_type": "code",
   "execution_count": 2,
   "id": "fc244f61",
   "metadata": {},
   "outputs": [],
   "source": [
    "#Sekumpulan nilai\n",
    "a = [1, 2, 3, \"Empat\",\"lima\",6]"
   ]
  },
  {
   "cell_type": "code",
   "execution_count": 3,
   "id": "44b57c8f",
   "metadata": {},
   "outputs": [
    {
     "data": {
      "text/plain": [
       "[1, 2, 3, 'Empat', 'lima', 6]"
      ]
     },
     "execution_count": 3,
     "metadata": {},
     "output_type": "execute_result"
    }
   ],
   "source": [
    "a"
   ]
  },
  {
   "cell_type": "code",
   "execution_count": 5,
   "id": "8bb5ac6a",
   "metadata": {},
   "outputs": [
    {
     "data": {
      "text/plain": [
       "'lima'"
      ]
     },
     "execution_count": 5,
     "metadata": {},
     "output_type": "execute_result"
    }
   ],
   "source": [
    "#Mengambil sesuai yang dipilih\n",
    "a[4]"
   ]
  },
  {
   "cell_type": "code",
   "execution_count": 11,
   "id": "b3900cab",
   "metadata": {},
   "outputs": [
    {
     "data": {
      "text/plain": [
       "'Empat'"
      ]
     },
     "execution_count": 11,
     "metadata": {},
     "output_type": "execute_result"
    }
   ],
   "source": [
    "a[3]"
   ]
  },
  {
   "cell_type": "code",
   "execution_count": 12,
   "id": "7beb2926",
   "metadata": {},
   "outputs": [
    {
     "data": {
      "text/plain": [
       "6"
      ]
     },
     "execution_count": 12,
     "metadata": {},
     "output_type": "execute_result"
    }
   ],
   "source": [
    "#Mengambil dari belakang\n",
    "a[-1]"
   ]
  },
  {
   "cell_type": "code",
   "execution_count": 13,
   "id": "bf43ef9e",
   "metadata": {},
   "outputs": [],
   "source": [
    "#Untuk menambah dalam suatu list dengan fungsi/method append\n",
    "a.append(7)"
   ]
  },
  {
   "cell_type": "code",
   "execution_count": 14,
   "id": "890ec365",
   "metadata": {},
   "outputs": [
    {
     "data": {
      "text/plain": [
       "[1, 2, 3, 'Empat', 'lima', 6, 7]"
      ]
     },
     "execution_count": 14,
     "metadata": {},
     "output_type": "execute_result"
    }
   ],
   "source": [
    "a"
   ]
  },
  {
   "cell_type": "code",
   "execution_count": 15,
   "id": "365fbca9",
   "metadata": {},
   "outputs": [
    {
     "data": {
      "text/plain": [
       "7"
      ]
     },
     "execution_count": 15,
     "metadata": {},
     "output_type": "execute_result"
    }
   ],
   "source": [
    "#melihat panjang dengan fungsi len\n",
    "len(a)"
   ]
  },
  {
   "cell_type": "code",
   "execution_count": 16,
   "id": "d9c08e88",
   "metadata": {},
   "outputs": [],
   "source": [
    "a = []"
   ]
  },
  {
   "cell_type": "code",
   "execution_count": 17,
   "id": "6e460827",
   "metadata": {},
   "outputs": [
    {
     "data": {
      "text/plain": [
       "[]"
      ]
     },
     "execution_count": 17,
     "metadata": {},
     "output_type": "execute_result"
    }
   ],
   "source": [
    "a"
   ]
  },
  {
   "cell_type": "code",
   "execution_count": 18,
   "id": "4f7a1aa9",
   "metadata": {},
   "outputs": [],
   "source": [
    "a.append(1)"
   ]
  },
  {
   "cell_type": "code",
   "execution_count": 19,
   "id": "ed471045",
   "metadata": {},
   "outputs": [
    {
     "data": {
      "text/plain": [
       "[1]"
      ]
     },
     "execution_count": 19,
     "metadata": {},
     "output_type": "execute_result"
    }
   ],
   "source": [
    "a"
   ]
  },
  {
   "cell_type": "code",
   "execution_count": 20,
   "id": "87d383ae",
   "metadata": {},
   "outputs": [],
   "source": [
    "a.append(2)"
   ]
  },
  {
   "cell_type": "code",
   "execution_count": 21,
   "id": "c2b96460",
   "metadata": {},
   "outputs": [
    {
     "data": {
      "text/plain": [
       "[1, 2]"
      ]
     },
     "execution_count": 21,
     "metadata": {},
     "output_type": "execute_result"
    }
   ],
   "source": [
    "a"
   ]
  },
  {
   "cell_type": "markdown",
   "id": "f372e650",
   "metadata": {},
   "source": [
    "# Slicing / Potong"
   ]
  },
  {
   "cell_type": "code",
   "execution_count": 22,
   "id": "d10304d3",
   "metadata": {},
   "outputs": [],
   "source": [
    "#aturan slicing yaitu = Inclusive dan Exclusive, step atau langkah"
   ]
  },
  {
   "cell_type": "code",
   "execution_count": 25,
   "id": "6111521f",
   "metadata": {},
   "outputs": [],
   "source": [
    "a=[0,1,2,3,4,5,6,7]"
   ]
  },
  {
   "cell_type": "code",
   "execution_count": 27,
   "id": "c5e57711",
   "metadata": {},
   "outputs": [
    {
     "data": {
      "text/plain": [
       "[0, 1]"
      ]
     },
     "execution_count": 27,
     "metadata": {},
     "output_type": "execute_result"
    }
   ],
   "source": [
    "a[0: 2]"
   ]
  },
  {
   "cell_type": "code",
   "execution_count": 28,
   "id": "2373450f",
   "metadata": {},
   "outputs": [
    {
     "data": {
      "text/plain": [
       "[0, 1, 2, 3, 4]"
      ]
     },
     "execution_count": 28,
     "metadata": {},
     "output_type": "execute_result"
    }
   ],
   "source": [
    "a[0: 5]"
   ]
  },
  {
   "cell_type": "code",
   "execution_count": 30,
   "id": "b2a1bf94",
   "metadata": {},
   "outputs": [
    {
     "data": {
      "text/plain": [
       "[3, 4, 5]"
      ]
     },
     "execution_count": 30,
     "metadata": {},
     "output_type": "execute_result"
    }
   ],
   "source": [
    "a[3:-2]"
   ]
  },
  {
   "cell_type": "code",
   "execution_count": 31,
   "id": "fd763de6",
   "metadata": {},
   "outputs": [
    {
     "data": {
      "text/plain": [
       "[0, 1, 2, 3, 4]"
      ]
     },
     "execution_count": 31,
     "metadata": {},
     "output_type": "execute_result"
    }
   ],
   "source": [
    "a[:5]"
   ]
  },
  {
   "cell_type": "code",
   "execution_count": 32,
   "id": "9243cb75",
   "metadata": {},
   "outputs": [
    {
     "data": {
      "text/plain": [
       "[3, 4, 5, 6, 7]"
      ]
     },
     "execution_count": 32,
     "metadata": {},
     "output_type": "execute_result"
    }
   ],
   "source": [
    "a[3:]"
   ]
  },
  {
   "cell_type": "code",
   "execution_count": 33,
   "id": "aec6137d",
   "metadata": {},
   "outputs": [
    {
     "data": {
      "text/plain": [
       "[0, 2, 4, 6]"
      ]
     },
     "execution_count": 33,
     "metadata": {},
     "output_type": "execute_result"
    }
   ],
   "source": [
    "a[:: 2]"
   ]
  },
  {
   "cell_type": "code",
   "execution_count": 34,
   "id": "8f82ac9d",
   "metadata": {},
   "outputs": [
    {
     "data": {
      "text/plain": [
       "[1, 3]"
      ]
     },
     "execution_count": 34,
     "metadata": {},
     "output_type": "execute_result"
    }
   ],
   "source": [
    "a[1:5:2]"
   ]
  },
  {
   "cell_type": "code",
   "execution_count": 35,
   "id": "97b2ae26",
   "metadata": {},
   "outputs": [
    {
     "data": {
      "text/plain": [
       "[7, 6, 5, 4, 3, 2, 1, 0]"
      ]
     },
     "execution_count": 35,
     "metadata": {},
     "output_type": "execute_result"
    }
   ],
   "source": [
    "a[::-1]\n",
    "# reverse"
   ]
  },
  {
   "cell_type": "markdown",
   "id": "33625b69",
   "metadata": {},
   "source": [
    "# Join dan Split"
   ]
  },
  {
   "cell_type": "code",
   "execution_count": 36,
   "id": "43a59fb3",
   "metadata": {},
   "outputs": [],
   "source": [
    "a = [\"cat\",\"dog\",\"Fish\"]"
   ]
  },
  {
   "cell_type": "code",
   "execution_count": 37,
   "id": "dacddc70",
   "metadata": {},
   "outputs": [
    {
     "data": {
      "text/plain": [
       "'cat dog Fish'"
      ]
     },
     "execution_count": 37,
     "metadata": {},
     "output_type": "execute_result"
    }
   ],
   "source": [
    "\" \".join(a)"
   ]
  },
  {
   "cell_type": "code",
   "execution_count": 38,
   "id": "247d30d8",
   "metadata": {},
   "outputs": [
    {
     "data": {
      "text/plain": [
       "'cat, dog, Fish'"
      ]
     },
     "execution_count": 38,
     "metadata": {},
     "output_type": "execute_result"
    }
   ],
   "source": [
    "\", \".join(a)"
   ]
  },
  {
   "cell_type": "code",
   "execution_count": 39,
   "id": "362f72eb",
   "metadata": {},
   "outputs": [],
   "source": [
    "a = \"Belajar python\""
   ]
  },
  {
   "cell_type": "code",
   "execution_count": 40,
   "id": "641e2bdb",
   "metadata": {},
   "outputs": [
    {
     "data": {
      "text/plain": [
       "['Belajar', 'python']"
      ]
     },
     "execution_count": 40,
     "metadata": {},
     "output_type": "execute_result"
    }
   ],
   "source": [
    "a.split()"
   ]
  },
  {
   "cell_type": "code",
   "execution_count": 43,
   "id": "7a5622c7",
   "metadata": {},
   "outputs": [],
   "source": [
    "a = \"Hari ini, saya pergi ke kampus\""
   ]
  },
  {
   "cell_type": "code",
   "execution_count": 44,
   "id": "452ee4ba",
   "metadata": {},
   "outputs": [
    {
     "data": {
      "text/plain": [
       "['Hari ini', ' saya pergi ke kampus']"
      ]
     },
     "execution_count": 44,
     "metadata": {},
     "output_type": "execute_result"
    }
   ],
   "source": [
    "a.split(\",\")"
   ]
  },
  {
   "cell_type": "markdown",
   "id": "0563378b",
   "metadata": {},
   "source": [
    "# Dictionary"
   ]
  },
  {
   "cell_type": "code",
   "execution_count": 45,
   "id": "eddb12c8",
   "metadata": {},
   "outputs": [],
   "source": [
    "# Dictionary harus berpasang sesuai dengan key : Value\n",
    "a = {\"cat\": \"Kucing\", \"dog\": \"Anjing\",\"Fish\": \"ikan\"}"
   ]
  },
  {
   "cell_type": "code",
   "execution_count": 48,
   "id": "029101fd",
   "metadata": {},
   "outputs": [
    {
     "data": {
      "text/plain": [
       "'Kucing'"
      ]
     },
     "execution_count": 48,
     "metadata": {},
     "output_type": "execute_result"
    }
   ],
   "source": [
    "a[\"cat\"]"
   ]
  },
  {
   "cell_type": "code",
   "execution_count": 50,
   "id": "3a33ad86",
   "metadata": {},
   "outputs": [
    {
     "data": {
      "text/plain": [
       "'ikan'"
      ]
     },
     "execution_count": 50,
     "metadata": {},
     "output_type": "execute_result"
    }
   ],
   "source": [
    "a[\"Fish\"]"
   ]
  },
  {
   "cell_type": "code",
   "execution_count": 51,
   "id": "f10b58e8",
   "metadata": {},
   "outputs": [],
   "source": [
    "# cara menambah di dictionary\n",
    "a['bird'] = 'burung'"
   ]
  },
  {
   "cell_type": "code",
   "execution_count": 52,
   "id": "58c7c690",
   "metadata": {},
   "outputs": [
    {
     "data": {
      "text/plain": [
       "{'cat': 'Kucing', 'dog': 'Anjing', 'Fish': 'ikan', 'bird': 'burung'}"
      ]
     },
     "execution_count": 52,
     "metadata": {},
     "output_type": "execute_result"
    }
   ],
   "source": [
    "a"
   ]
  },
  {
   "cell_type": "code",
   "execution_count": 53,
   "id": "5131dca7",
   "metadata": {},
   "outputs": [],
   "source": [
    "a['elephant'] = 'gajah'"
   ]
  },
  {
   "cell_type": "code",
   "execution_count": 54,
   "id": "70f5c63e",
   "metadata": {},
   "outputs": [
    {
     "data": {
      "text/plain": [
       "{'cat': 'Kucing',\n",
       " 'dog': 'Anjing',\n",
       " 'Fish': 'ikan',\n",
       " 'bird': 'burung',\n",
       " 'elephant': 'gajah'}"
      ]
     },
     "execution_count": 54,
     "metadata": {},
     "output_type": "execute_result"
    }
   ],
   "source": [
    "a"
   ]
  },
  {
   "cell_type": "code",
   "execution_count": 55,
   "id": "0240b21e",
   "metadata": {},
   "outputs": [
    {
     "data": {
      "text/plain": [
       "dict_keys(['cat', 'dog', 'Fish', 'bird', 'elephant'])"
      ]
     },
     "execution_count": 55,
     "metadata": {},
     "output_type": "execute_result"
    }
   ],
   "source": [
    "a.keys()"
   ]
  },
  {
   "cell_type": "code",
   "execution_count": 57,
   "id": "12a217e9",
   "metadata": {},
   "outputs": [
    {
     "data": {
      "text/plain": [
       "dict_values(['Kucing', 'Anjing', 'ikan', 'burung', 'gajah'])"
      ]
     },
     "execution_count": 57,
     "metadata": {},
     "output_type": "execute_result"
    }
   ],
   "source": [
    "a.values()"
   ]
  },
  {
   "cell_type": "code",
   "execution_count": 58,
   "id": "eb1c45ad",
   "metadata": {},
   "outputs": [],
   "source": [
    "nilai = {\"Yasril\": 90, \"Faisal\": 80, \"Lucky\": 70} "
   ]
  },
  {
   "cell_type": "code",
   "execution_count": 59,
   "id": "8e1c6652",
   "metadata": {},
   "outputs": [],
   "source": [
    "nilai['Billy'] = 90"
   ]
  },
  {
   "cell_type": "code",
   "execution_count": 60,
   "id": "a3e0330d",
   "metadata": {},
   "outputs": [
    {
     "data": {
      "text/plain": [
       "{'Yasril': '90', 'Faisal': '80', 'Lucky': '70', 'Billy': 90}"
      ]
     },
     "execution_count": 60,
     "metadata": {},
     "output_type": "execute_result"
    }
   ],
   "source": [
    "nilai"
   ]
  },
  {
   "cell_type": "markdown",
   "id": "916f441f",
   "metadata": {},
   "source": [
    "# Fungsi"
   ]
  },
  {
   "cell_type": "code",
   "execution_count": 6,
   "id": "b3ab9642",
   "metadata": {},
   "outputs": [],
   "source": [
    "def jumlah(a, b):\n",
    "    return a + b"
   ]
  },
  {
   "cell_type": "code",
   "execution_count": 7,
   "id": "fc498f3a",
   "metadata": {},
   "outputs": [
    {
     "data": {
      "text/plain": [
       "11"
      ]
     },
     "execution_count": 7,
     "metadata": {},
     "output_type": "execute_result"
    }
   ],
   "source": [
    "jumlah(7,4)"
   ]
  },
  {
   "cell_type": "code",
   "execution_count": 72,
   "id": "d6406977",
   "metadata": {},
   "outputs": [],
   "source": [
    "def perkalian(a, b):\n",
    "    return a * b"
   ]
  },
  {
   "cell_type": "code",
   "execution_count": 73,
   "id": "0aac96a7",
   "metadata": {},
   "outputs": [
    {
     "data": {
      "text/plain": [
       "1476"
      ]
     },
     "execution_count": 73,
     "metadata": {},
     "output_type": "execute_result"
    }
   ],
   "source": [
    "perkalian(123, 12)"
   ]
  },
  {
   "cell_type": "markdown",
   "id": "7d0c092b",
   "metadata": {},
   "source": [
    "# Conditionals"
   ]
  },
  {
   "cell_type": "code",
   "execution_count": 74,
   "id": "b1098ef4",
   "metadata": {},
   "outputs": [],
   "source": [
    "#membuat kasus dalam suatu nilai contohnya\n",
    "score = 50"
   ]
  },
  {
   "cell_type": "code",
   "execution_count": 77,
   "id": "fe8640bd",
   "metadata": {},
   "outputs": [
    {
     "name": "stdout",
     "output_type": "stream",
     "text": [
      "Indeks : C\n"
     ]
    }
   ],
   "source": [
    "if 0 <= score < 60:\n",
    "    print(\"Indeks : C\")\n",
    "elif 60 <= score < 80:\n",
    "    print(\"Indeks : B\")\n",
    "elif 80<= score < 100:\n",
    "    print(\"Indeks: S\")\n",
    "else:\n",
    "    print(\"Ketinggian scorenya\")"
   ]
  },
  {
   "cell_type": "code",
   "execution_count": 80,
   "id": "6764516d",
   "metadata": {},
   "outputs": [],
   "source": [
    "def konversi_indeks(score):\n",
    "    if 0 <= score < 60:\n",
    "        return(\"Indeks : C\")\n",
    "    elif 60 <= score < 80:\n",
    "        return(\"Indeks : B\")\n",
    "    elif 80<= score < 100:\n",
    "        return(\"Indeks: A\")\n",
    "    elif score == 100:\n",
    "        return(\"Indeks: S\")\n",
    "    else:\n",
    "        return(\"Ketinggian scorenya\")\n",
    "# Kombinasi conditional dan fungsi"
   ]
  },
  {
   "cell_type": "code",
   "execution_count": 83,
   "id": "fa62f8ba",
   "metadata": {},
   "outputs": [
    {
     "data": {
      "text/plain": [
       "'Ketinggian scorenya'"
      ]
     },
     "execution_count": 83,
     "metadata": {},
     "output_type": "execute_result"
    }
   ],
   "source": [
    "konversi_indeks(101)"
   ]
  },
  {
   "cell_type": "markdown",
   "id": "4ffe053c",
   "metadata": {},
   "source": [
    "# Iterasi"
   ]
  },
  {
   "cell_type": "code",
   "execution_count": null,
   "id": "89962fb7",
   "metadata": {},
   "outputs": [],
   "source": [
    "# Iterasi adalah menelusuri sebuah list atau yang bisa di iterasi"
   ]
  },
  {
   "cell_type": "code",
   "execution_count": 84,
   "id": "5ef26a76",
   "metadata": {},
   "outputs": [],
   "source": [
    "number = [1,2,3,4,5,6]"
   ]
  },
  {
   "cell_type": "code",
   "execution_count": 85,
   "id": "22ae9d10",
   "metadata": {},
   "outputs": [
    {
     "name": "stdout",
     "output_type": "stream",
     "text": [
      "1\n",
      "2\n",
      "3\n",
      "4\n",
      "5\n",
      "6\n"
     ]
    }
   ],
   "source": [
    "for n in number:\n",
    "    print(n)"
   ]
  },
  {
   "cell_type": "code",
   "execution_count": 86,
   "id": "bd2840e2",
   "metadata": {},
   "outputs": [
    {
     "name": "stdout",
     "output_type": "stream",
     "text": [
      "Indeks: A\n",
      "Indeks : C\n",
      "Indeks : C\n",
      "Indeks: S\n"
     ]
    }
   ],
   "source": [
    "for score in [80,30,55,100]:\n",
    "    print(konversi_indeks(score))"
   ]
  },
  {
   "cell_type": "code",
   "execution_count": 87,
   "id": "e58a6542",
   "metadata": {},
   "outputs": [
    {
     "name": "stdout",
     "output_type": "stream",
     "text": [
      "1\n",
      "4\n",
      "9\n",
      "16\n",
      "25\n",
      "36\n"
     ]
    }
   ],
   "source": [
    "for numb in number:\n",
    "    print(numb**2)"
   ]
  },
  {
   "cell_type": "code",
   "execution_count": 88,
   "id": "776263ce",
   "metadata": {},
   "outputs": [],
   "source": [
    "animals = [\"Cat\",\"Fish\",\"Elephant\",\"Bird\"]"
   ]
  },
  {
   "cell_type": "code",
   "execution_count": 89,
   "id": "5c2d2c9d",
   "metadata": {},
   "outputs": [
    {
     "name": "stdout",
     "output_type": "stream",
     "text": [
      "Cat\n",
      "Fish\n",
      "Elephant\n",
      "Bird\n"
     ]
    }
   ],
   "source": [
    "for animal in animals:\n",
    "    print(animal)"
   ]
  },
  {
   "cell_type": "code",
   "execution_count": 90,
   "id": "9bf79f89",
   "metadata": {},
   "outputs": [
    {
     "name": "stdout",
     "output_type": "stream",
     "text": [
      "CAT\n",
      "FISH\n",
      "ELEPHANT\n",
      "BIRD\n"
     ]
    }
   ],
   "source": [
    "for animal in animals:\n",
    "    print(animal.upper())\n",
    "#     upper untuk huruf kapital"
   ]
  },
  {
   "cell_type": "code",
   "execution_count": 91,
   "id": "a653f456",
   "metadata": {},
   "outputs": [
    {
     "name": "stdout",
     "output_type": "stream",
     "text": [
      "cat\n",
      "fish\n",
      "elephant\n",
      "bird\n"
     ]
    }
   ],
   "source": [
    "for animal in animals:\n",
    "    print(animal.lower())\n",
    "#     upper untuk huruf kecil"
   ]
  },
  {
   "cell_type": "code",
   "execution_count": 92,
   "id": "4999d90c",
   "metadata": {},
   "outputs": [
    {
     "name": "stdout",
     "output_type": "stream",
     "text": [
      "2\n",
      "4\n"
     ]
    }
   ],
   "source": [
    "for i in range (2,5,2):\n",
    "    print(i)"
   ]
  },
  {
   "cell_type": "code",
   "execution_count": 93,
   "id": "6a439da1",
   "metadata": {},
   "outputs": [
    {
     "data": {
      "text/plain": [
       "dict_keys(['cat', 'dog', 'Fish', 'bird', 'elephant'])"
      ]
     },
     "execution_count": 93,
     "metadata": {},
     "output_type": "execute_result"
    }
   ],
   "source": [
    "a.keys()"
   ]
  },
  {
   "cell_type": "code",
   "execution_count": 97,
   "id": "1092e2f5",
   "metadata": {},
   "outputs": [
    {
     "name": "stdout",
     "output_type": "stream",
     "text": [
      "Bahasa Indonesia dari cat Adalah Kucing\n",
      "Bahasa Indonesia dari dog Adalah Anjing\n",
      "Bahasa Indonesia dari Fish Adalah ikan\n",
      "Bahasa Indonesia dari bird Adalah burung\n",
      "Bahasa Indonesia dari elephant Adalah gajah\n"
     ]
    }
   ],
   "source": [
    "for key in a.keys():\n",
    "    print(\"Bahasa Indonesia dari\", key, \"Adalah\", a[key])"
   ]
  },
  {
   "cell_type": "code",
   "execution_count": 99,
   "id": "3aaf859a",
   "metadata": {},
   "outputs": [
    {
     "data": {
      "text/plain": [
       "'Bahasa indonesia dari elephant adalah gajah'"
      ]
     },
     "execution_count": 99,
     "metadata": {},
     "output_type": "execute_result"
    }
   ],
   "source": [
    "#cara cepat\n",
    "f\"Bahasa indonesia dari {key} adalah {a[key]}\""
   ]
  },
  {
   "cell_type": "code",
   "execution_count": 100,
   "id": "92f44587",
   "metadata": {},
   "outputs": [],
   "source": [
    "a = []\n",
    "for i in range(5):\n",
    "    a.append(i**2)"
   ]
  },
  {
   "cell_type": "code",
   "execution_count": 101,
   "id": "69aec5a9",
   "metadata": {},
   "outputs": [
    {
     "data": {
      "text/plain": [
       "[0, 1, 4, 9, 16]"
      ]
     },
     "execution_count": 101,
     "metadata": {},
     "output_type": "execute_result"
    }
   ],
   "source": [
    "a"
   ]
  },
  {
   "cell_type": "markdown",
   "id": "6efaee0b",
   "metadata": {},
   "source": [
    "# Python Comprehension"
   ]
  },
  {
   "cell_type": "code",
   "execution_count": 103,
   "id": "b2cbadf5",
   "metadata": {},
   "outputs": [],
   "source": [
    "# List Comprehension\n",
    "a = [i**2 for i in range(5)]"
   ]
  },
  {
   "cell_type": "code",
   "execution_count": 104,
   "id": "c5a2db2e",
   "metadata": {},
   "outputs": [
    {
     "data": {
      "text/plain": [
       "[0, 1, 4, 9, 16]"
      ]
     },
     "execution_count": 104,
     "metadata": {},
     "output_type": "execute_result"
    }
   ],
   "source": [
    "a"
   ]
  },
  {
   "cell_type": "code",
   "execution_count": 106,
   "id": "8ea03006",
   "metadata": {},
   "outputs": [],
   "source": [
    "# Dictionary comprehension\n",
    "a = {i: i**2 for i in range(5)}"
   ]
  },
  {
   "cell_type": "code",
   "execution_count": 107,
   "id": "08389633",
   "metadata": {},
   "outputs": [
    {
     "data": {
      "text/plain": [
       "{0: 0, 1: 1, 2: 4, 3: 9, 4: 16}"
      ]
     },
     "execution_count": 107,
     "metadata": {},
     "output_type": "execute_result"
    }
   ],
   "source": [
    "a"
   ]
  },
  {
   "cell_type": "code",
   "execution_count": 108,
   "id": "cbcee169",
   "metadata": {},
   "outputs": [
    {
     "data": {
      "text/plain": [
       "{1, 2, 3, 4, 5}"
      ]
     },
     "execution_count": 108,
     "metadata": {},
     "output_type": "execute_result"
    }
   ],
   "source": [
    "# set tidak ada yang mengulang atau uniq\n",
    "{1,2,3,4,5,1,2,3,4,5}"
   ]
  },
  {
   "cell_type": "code",
   "execution_count": 109,
   "id": "4c4d1edb",
   "metadata": {},
   "outputs": [],
   "source": [
    "# Lebih memanfaatkan Comprehension dibandingkan append \n",
    "nilai = [konversi_indeks(score) for score in [20,30,60,80,100,109,111]]"
   ]
  },
  {
   "cell_type": "code",
   "execution_count": 110,
   "id": "9905e512",
   "metadata": {},
   "outputs": [
    {
     "data": {
      "text/plain": [
       "['Indeks : C',\n",
       " 'Indeks : C',\n",
       " 'Indeks : B',\n",
       " 'Indeks: A',\n",
       " 'Indeks: S',\n",
       " 'Ketinggian scorenya',\n",
       " 'Ketinggian scorenya']"
      ]
     },
     "execution_count": 110,
     "metadata": {},
     "output_type": "execute_result"
    }
   ],
   "source": [
    "nilai"
   ]
  },
  {
   "cell_type": "code",
   "execution_count": null,
   "id": "96adac36",
   "metadata": {},
   "outputs": [],
   "source": []
  },
  {
   "cell_type": "code",
   "execution_count": null,
   "id": "21eaace0",
   "metadata": {},
   "outputs": [],
   "source": []
  },
  {
   "cell_type": "code",
   "execution_count": null,
   "id": "98f12d91",
   "metadata": {},
   "outputs": [],
   "source": []
  },
  {
   "cell_type": "markdown",
   "id": "682cf4b3",
   "metadata": {},
   "source": [
    "# Exercise : berhitung"
   ]
  },
  {
   "cell_type": "code",
   "execution_count": 111,
   "id": "b7d857fa",
   "metadata": {},
   "outputs": [],
   "source": [
    "# Membuat iterasi "
   ]
  },
  {
   "cell_type": "code",
   "execution_count": 115,
   "id": "f55c402f",
   "metadata": {},
   "outputs": [
    {
     "name": "stdout",
     "output_type": "stream",
     "text": [
      "1\n",
      "2\n",
      "3\n",
      "4\n",
      "5\n",
      "6\n",
      "7\n",
      "8\n",
      "9\n",
      "10\n",
      "11\n",
      "12\n",
      "13\n",
      "14\n",
      "15\n",
      "16\n",
      "17\n",
      "18\n",
      "19\n",
      "20\n"
     ]
    }
   ],
   "source": [
    "for angka in range(1, 21):\n",
    "    print(angka)"
   ]
  },
  {
   "cell_type": "code",
   "execution_count": 117,
   "id": "2fbdc63b",
   "metadata": {},
   "outputs": [
    {
     "name": "stdout",
     "output_type": "stream",
     "text": [
      "1\n",
      "2\n",
      "3\n",
      "4\n",
      "5\n",
      "6\n",
      "7\n",
      "8\n",
      "9\n",
      "10\n",
      "11\n",
      "12\n",
      "13\n",
      "14\n",
      "15\n",
      "16\n",
      "17\n",
      "18\n",
      "18\n",
      "18\n"
     ]
    }
   ],
   "source": [
    "for angka in range(1, 21):\n",
    "    if angka > 18:\n",
    "        print(18)\n",
    "    else:\n",
    "        print(angka)"
   ]
  },
  {
   "cell_type": "code",
   "execution_count": 118,
   "id": "0ba7efe5",
   "metadata": {},
   "outputs": [],
   "source": [
    "# cara yang lebih efisien"
   ]
  },
  {
   "cell_type": "code",
   "execution_count": 119,
   "id": "64c5dc95",
   "metadata": {},
   "outputs": [
    {
     "name": "stdout",
     "output_type": "stream",
     "text": [
      "1\n",
      "2\n",
      "3\n",
      "4\n",
      "5\n",
      "6\n",
      "7\n",
      "8\n",
      "9\n",
      "10\n",
      "11\n",
      "12\n",
      "13\n",
      "14\n",
      "15\n",
      "16\n",
      "17\n",
      "18\n",
      "18\n",
      "18\n"
     ]
    }
   ],
   "source": [
    "for angka in range(1, 21):\n",
    "    print(min(angka, 18))\n",
    "# Menggunakan fungsi min"
   ]
  },
  {
   "cell_type": "markdown",
   "id": "d9286ecb",
   "metadata": {},
   "source": [
    "# Daftar pangkat"
   ]
  },
  {
   "cell_type": "code",
   "execution_count": 120,
   "id": "999861f5",
   "metadata": {},
   "outputs": [],
   "source": [
    "a = []\n",
    "for i in range (0, 5):\n",
    "    a.append(i**2)"
   ]
  },
  {
   "cell_type": "code",
   "execution_count": 121,
   "id": "4effa140",
   "metadata": {},
   "outputs": [
    {
     "data": {
      "text/plain": [
       "[0, 1, 4, 9, 16]"
      ]
     },
     "execution_count": 121,
     "metadata": {},
     "output_type": "execute_result"
    }
   ],
   "source": [
    "a"
   ]
  },
  {
   "cell_type": "markdown",
   "id": "b130a33b",
   "metadata": {},
   "source": [
    "# List Comprehension"
   ]
  },
  {
   "cell_type": "code",
   "execution_count": 123,
   "id": "406c370c",
   "metadata": {},
   "outputs": [],
   "source": [
    "# Lebih cepat di banding yang atas\n",
    "a = [i**2 for i in range (0, 5)]"
   ]
  },
  {
   "cell_type": "code",
   "execution_count": 124,
   "id": "cc9d387a",
   "metadata": {},
   "outputs": [
    {
     "data": {
      "text/plain": [
       "[0, 1, 4, 9, 16]"
      ]
     },
     "execution_count": 124,
     "metadata": {},
     "output_type": "execute_result"
    }
   ],
   "source": [
    "a"
   ]
  },
  {
   "cell_type": "code",
   "execution_count": null,
   "id": "8db97171",
   "metadata": {},
   "outputs": [],
   "source": []
  }
 ],
 "metadata": {
  "kernelspec": {
   "display_name": "Python 3",
   "language": "python",
   "name": "python3"
  },
  "language_info": {
   "codemirror_mode": {
    "name": "ipython",
    "version": 3
   },
   "file_extension": ".py",
   "mimetype": "text/x-python",
   "name": "python",
   "nbconvert_exporter": "python",
   "pygments_lexer": "ipython3",
   "version": "3.8.5"
  }
 },
 "nbformat": 4,
 "nbformat_minor": 5
}
